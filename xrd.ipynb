{
 "cells": [
  {
   "cell_type": "code",
   "execution_count": 53,
   "id": "mediterranean-turner",
   "metadata": {},
   "outputs": [],
   "source": [
    "from pymatgen import Lattice, Structure\n",
    "from pymatgen.symmetry.analyzer import SpacegroupAnalyzer\n",
    "import pymatgen.symmetry.structure \n",
    "from jupyter_jsmol.pymatgen import quick_view\n",
    "from pymatgen.ext.matproj import MPRester\n",
    "from pymatgen.io.cif import CifWriter\n",
    "import pymatgen.analysis.diffraction.xrd as xrd"
   ]
  },
  {
   "cell_type": "code",
   "execution_count": 54,
   "id": "solid-referral",
   "metadata": {},
   "outputs": [],
   "source": [
    "with MPRester(\"pyNX4Po9ZxSuwfvq\") as m:\n",
    "\n",
    "    # Structure for material id\n",
    "    structure = m.get_structure_by_material_id(\"mp-23210\")\n",
    "\n",
    "    w = CifWriter(structure)\n",
    "    w.write_file('Structure-MgCl2.cif')\n",
    "   "
   ]
  },
  {
   "cell_type": "code",
   "execution_count": 55,
   "id": "vocational-value",
   "metadata": {},
   "outputs": [],
   "source": [
    "a = xrd.XRDCalculator(wavelength= 1.5406, symprec=0, debye_waller_factors=None)"
   ]
  },
  {
   "cell_type": "code",
   "execution_count": 56,
   "id": "periodic-luther",
   "metadata": {},
   "outputs": [],
   "source": [
    "pattern = a.get_pattern(structure, scaled=False, two_theta_range=(0, 90))\n",
    "theta2 = pattern.x\n",
    "intensity = pattern.y\n",
    "hkls = pattern.hkls\n",
    "dhkl = pattern.d_hkls\n",
    "\n"
   ]
  },
  {
   "cell_type": "markdown",
   "id": "marked-ceremony",
   "metadata": {},
   "source": [
    "Les indices hkl, de même que les distances entre les plans d'une même famille hkl, sont déterminés à partir de la cellule primitive.\n",
    "\n",
    "Les angles de diffraction sont déterminés à partir de la formule de bragg : $$2*d_{hkl}*sin(\\theta) = n*\\lambda$$\n",
    "\n",
    "où dhkl est la distance entre les plans de la famille hkl, 𝜃 est l'angle de diffraction. \n",
    "Ici, n = 1 et 𝜆 =  1.5406 A.\n",
    "\n",
    "Nous avons donc pour les 3 premiers pics : \n",
    "\n"
   ]
  },
  {
   "cell_type": "code",
   "execution_count": 57,
   "id": "vanilla-strike",
   "metadata": {},
   "outputs": [
    {
     "name": "stdout",
     "output_type": "stream",
     "text": [
      "PREMIER PIC \n",
      "\n",
      "angle du premier pic  =  6.729022627826659 °\n",
      "indice hkl associé :  (1, 1, 1)\n",
      "distance entre les plans (1 1 1) : d_111 =  6.573995032059102 A \n",
      "\n",
      "DEUXIEME PIC \n",
      "\n",
      "angle du deuxieme pic  =  13.553169532697327 °\n",
      "indice hkl associé :  (2, 2, 2)\n",
      "distance entre les plans (2 2 2) : d_222 =  3.286997516029551 A \n",
      "\n",
      "TROISIEME PIC \n",
      "\n",
      "angle du troisieme pic  =  14.187876497310961 °\n",
      "indice hkl associé :  (1, 0, 0)\n",
      "distance entre les plans (1 0 0) : d_100 =  3.14277 A \n",
      "\n"
     ]
    }
   ],
   "source": [
    "print(\"PREMIER PIC \\n\")\n",
    "print(\"angle du premier pic  = \",pattern.x[0]/2,\"°\" )\n",
    "print(\"indice hkl associé : \", pattern.hkls[0][0].get(\"hkl\"))\n",
    "print(\"distance entre les plans (1 1 1) : d_111 = \", dhkl[0],\"A \\n\")\n",
    "\n",
    "\n",
    "print(\"DEUXIEME PIC \\n\")\n",
    "print(\"angle du deuxieme pic  = \",pattern.x[1]/2,\"°\" )\n",
    "print(\"indice hkl associé : \", pattern.hkls[1][0].get(\"hkl\"))\n",
    "print(\"distance entre les plans (2 2 2) : d_222 = \", dhkl[1],\"A \\n\")\n",
    "\n",
    "print(\"TROISIEME PIC \\n\")\n",
    "print(\"angle du troisieme pic  = \",pattern.x[2]/2,\"°\" )\n",
    "print(\"indice hkl associé : \", pattern.hkls[2][0].get(\"hkl\"))\n",
    "print(\"distance entre les plans (1 0 0) : d_100 = \", dhkl[2],\"A \\n\")\n"
   ]
  },
  {
   "cell_type": "markdown",
   "id": "detailed-africa",
   "metadata": {},
   "source": [
    "On peut vérifier que par exemple pour le premier pic : $2*d_{111}*sin(6.729022627826659) = 1.5406 A$"
   ]
  },
  {
   "cell_type": "code",
   "execution_count": null,
   "id": "better-nutrition",
   "metadata": {},
   "outputs": [],
   "source": []
  }
 ],
 "metadata": {
  "kernelspec": {
   "display_name": "Python 3",
   "language": "python",
   "name": "python3"
  },
  "language_info": {
   "codemirror_mode": {
    "name": "ipython",
    "version": 3
   },
   "file_extension": ".py",
   "mimetype": "text/x-python",
   "name": "python",
   "nbconvert_exporter": "python",
   "pygments_lexer": "ipython3",
   "version": "3.6.8"
  }
 },
 "nbformat": 4,
 "nbformat_minor": 5
}
