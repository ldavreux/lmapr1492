{
 "cells": [
  {
   "cell_type": "code",
   "execution_count": 79,
   "id": "celtic-daily",
   "metadata": {},
   "outputs": [],
   "source": [
    "from pymatgen import Lattice, Structure\n",
    "from pymatgen.symmetry.analyzer import SpacegroupAnalyzer\n",
    "import pymatgen.symmetry.structure \n",
    "from jupyter_jsmol.pymatgen import quick_view\n",
    "from pymatgen.ext.matproj import MPRester\n",
    "from pymatgen.io.cif import CifWriter"
   ]
  },
  {
   "cell_type": "code",
   "execution_count": 80,
   "id": "appreciated-hearts",
   "metadata": {},
   "outputs": [],
   "source": [
    "with MPRester(\"pyNX4Po9ZxSuwfvq\") as m:\n",
    "\n",
    "    # Structure for material id\n",
    "    structure = m.get_structure_by_material_id(\"mp-23210\")\n",
    "\n",
    "    w = CifWriter(structure,symprec = 0.1)\n",
    "    w.write_file('Structure-MgCl2sym.cif')\n",
    "    structuresym = Structure.from_file(\"Structure-MgCl2sym.cif\")"
   ]
  },
  {
   "cell_type": "code",
   "execution_count": 81,
   "id": "heard-gateway",
   "metadata": {},
   "outputs": [],
   "source": [
    "finder = SpacegroupAnalyzer(structuresym)\n",
    "syms = finder.get_symmetry_operations(cartesian=False)\n"
   ]
  },
  {
   "cell_type": "markdown",
   "id": "perfect-purse",
   "metadata": {},
   "source": [
    "PREMIERE SYMETRIE :"
   ]
  },
  {
   "cell_type": "code",
   "execution_count": 82,
   "id": "acute-radical",
   "metadata": {},
   "outputs": [
    {
     "data": {
      "application/vnd.jupyter.widget-view+json": {
       "model_id": "0098c1d766304653a88ed6afb5232d6d",
       "version_major": 2,
       "version_minor": 0
      },
      "text/plain": [
       "JsmolView(layout=Layout(align_self='stretch', height='400px'))"
      ]
     },
     "metadata": {},
     "output_type": "display_data"
    }
   ],
   "source": [
    "view = quick_view(structuresym)\n",
    "display(view)\n",
    "view.script(\"draw symop 2 (atomno = 7)\")\n"
   ]
  },
  {
   "cell_type": "markdown",
   "id": "broad-compression",
   "metadata": {},
   "source": [
    "1.\n",
    "\n",
    "On représente ici l'application d'une symétrie d'inversion (représentée par un trait bleu) sur l'atome numéro 7 (atome de chlore) de coordonnées (2/3,1/3,1/3).\n",
    "\n",
    "C'est donc une symétrie qui envoit un point (x,y,z) vers (-x,-y,-z). Le centre d'inversion de cette symétrie d'inversion est l'origine (0,0,0).\n",
    "L'inversion envoit donc l'atome en (-2/3,-1/3,-1/3). Ramené dans la cellule de départ, ce point correspond à l'atome de chlore de coordonnées (1/3,2/3,0.93037067)"
   ]
  },
  {
   "cell_type": "code",
   "execution_count": 83,
   "id": "instant-implement",
   "metadata": {},
   "outputs": [
    {
     "name": "stdout",
     "output_type": "stream",
     "text": [
      "L'opérateur d'inversion associé est la matrice :\n",
      "\n",
      "[[-1.  0.  0.]\n",
      " [ 0. -1.  0.]\n",
      " [ 0.  0. -1.]]\n"
     ]
    }
   ],
   "source": [
    "print(\"L'opérateur d'inversion associé est la matrice :\\n\")\n",
    "print(syms[1].rotation_matrix)"
   ]
  },
  {
   "cell_type": "markdown",
   "id": "pediatric-flood",
   "metadata": {},
   "source": [
    "DEUXIEME SYMETRIE :"
   ]
  },
  {
   "cell_type": "code",
   "execution_count": 84,
   "id": "brown-straight",
   "metadata": {},
   "outputs": [
    {
     "data": {
      "application/vnd.jupyter.widget-view+json": {
       "model_id": "d44443320e2b40398369fdd563515e8b",
       "version_major": 2,
       "version_minor": 0
      },
      "text/plain": [
       "JsmolView(layout=Layout(align_self='stretch', height='400px'))"
      ]
     },
     "metadata": {},
     "output_type": "display_data"
    }
   ],
   "source": [
    "view = quick_view(structuresym)\n",
    "display(view)\n",
    "view.script(\"draw symop 3 (atomno = 10 )\")"
   ]
  },
  {
   "cell_type": "markdown",
   "id": "forty-respect",
   "metadata": {},
   "source": [
    "2.\n",
    "\n",
    "Cette symétrie est une rotation d'ordre 3 (angle de rotation de 120°).\n",
    "\n",
    "L'axe de rotation a pour équation : (0,0,z) exprimé par rapport aux vecteurs de base du réseau direct. L'axe de rotation est donc le vecteur de base C. \n",
    "\n",
    "Cette rotation envoit un point de coordonnées (x,y,z) vers un point de coordonnées (-y, x-y, z).\n",
    "\n",
    "On applique cette rotation à l'atome de chlore de coordonnées (1/3,2/3,0.40296267) ce qui l'envoit en (-2/3,-1/3,0.40296267).\n",
    "\n",
    "Ramené dans la cellule de départ, ce point correspond à l'atome de départ.\n",
    "\n"
   ]
  },
  {
   "cell_type": "code",
   "execution_count": 85,
   "id": "brutal-smith",
   "metadata": {},
   "outputs": [
    {
     "name": "stdout",
     "output_type": "stream",
     "text": [
      "L'opérateur de rotation associé est la matrice :\n",
      "\n",
      "[[ 0. -1.  0.]\n",
      " [ 1. -1.  0.]\n",
      " [ 0.  0.  1.]]\n"
     ]
    }
   ],
   "source": [
    "print(\"L'opérateur de rotation associé est la matrice :\\n\")\n",
    "print(syms[2].rotation_matrix)"
   ]
  },
  {
   "cell_type": "markdown",
   "id": "hydraulic-wednesday",
   "metadata": {},
   "source": [
    "SYMETRIE 3"
   ]
  },
  {
   "cell_type": "code",
   "execution_count": 86,
   "id": "difficult-visit",
   "metadata": {},
   "outputs": [
    {
     "data": {
      "application/vnd.jupyter.widget-view+json": {
       "model_id": "774d30b02c9f4c1f9c65f104bf1f49a7",
       "version_major": 2,
       "version_minor": 0
      },
      "text/plain": [
       "JsmolView(layout=Layout(align_self='stretch', height='400px'))"
      ]
     },
     "metadata": {},
     "output_type": "display_data"
    }
   ],
   "source": [
    "view = quick_view(structuresym)\n",
    "display(view)\n",
    "view.script(\"draw symop 8 (atomno = 6)\")\n"
   ]
  },
  {
   "cell_type": "markdown",
   "id": "forbidden-stomach",
   "metadata": {},
   "source": [
    "3.\n",
    "\n",
    "On représente ici une symétrie de réflexion par un plan miroire (en vert) contenant le vecteur c et d'équation : x + y = 0\n",
    "Où x et y sont les coordonnées selon a et b.\n",
    "\n",
    "Cette réflexion envoit un point de coordonnées (x,y,z) vers un point (-y,-x,z).\n",
    "\n",
    "On applique cette réflexion à l'atome de chlore de coordonnées (2/3,1/3,0.59703733) ce qui l'envoit en (-1/3,-2/3,0.40296267).\n",
    "\n",
    "Ramené dans la cellule de départ, ce point correspond à l'atome de départ.\n"
   ]
  },
  {
   "cell_type": "code",
   "execution_count": 87,
   "id": "written-creator",
   "metadata": {},
   "outputs": [
    {
     "name": "stdout",
     "output_type": "stream",
     "text": [
      "L'opérateur de réflexion associé est la matrice :\n",
      "\n",
      "[[ 0. -1.  0.]\n",
      " [-1.  0.  0.]\n",
      " [ 0.  0.  1.]]\n"
     ]
    }
   ],
   "source": [
    "print(\"L'opérateur de réflexion associé est la matrice :\\n\")\n",
    "print(syms[7].rotation_matrix)"
   ]
  },
  {
   "cell_type": "code",
   "execution_count": null,
   "id": "employed-arrow",
   "metadata": {},
   "outputs": [],
   "source": []
  }
 ],
 "metadata": {
  "kernelspec": {
   "display_name": "Python 3",
   "language": "python",
   "name": "python3"
  },
  "language_info": {
   "codemirror_mode": {
    "name": "ipython",
    "version": 3
   },
   "file_extension": ".py",
   "mimetype": "text/x-python",
   "name": "python",
   "nbconvert_exporter": "python",
   "pygments_lexer": "ipython3",
   "version": "3.6.8"
  }
 },
 "nbformat": 4,
 "nbformat_minor": 5
}
