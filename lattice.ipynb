{
 "cells": [
  {
   "cell_type": "code",
   "execution_count": 2,
   "id": "generous-guard",
   "metadata": {},
   "outputs": [],
   "source": [
    "from pymatgen import Lattice, Structure\n",
    "from pymatgen.symmetry.analyzer import SpacegroupAnalyzer\n",
    "\n",
    "from jupyter_jsmol.pymatgen import quick_view\n",
    "from pymatgen.ext.matproj import MPRester\n",
    "from pymatgen.io.cif import CifWriter"
   ]
  },
  {
   "cell_type": "code",
   "execution_count": 3,
   "id": "binary-provincial",
   "metadata": {},
   "outputs": [],
   "source": [
    "with MPRester(\"pyNX4Po9ZxSuwfvq\") as m:\n",
    "\n",
    "    # Structure for material id\n",
    "    structure = m.get_structure_by_material_id(\"mp-23210\")\n",
    "\n",
    "    w = CifWriter(structure)\n",
    "    w.write_file('Structure-MgCl2')"
   ]
  },
  {
   "cell_type": "code",
   "execution_count": 4,
   "id": "violent-distributor",
   "metadata": {},
   "outputs": [
    {
     "data": {
      "application/vnd.jupyter.widget-view+json": {
       "model_id": "904a580d09734b16beaf596602689b0d",
       "version_major": 2,
       "version_minor": 0
      },
      "text/plain": [
       "JsmolView(layout=Layout(align_self='stretch', height='400px'))"
      ]
     },
     "metadata": {},
     "output_type": "display_data"
    },
    {
     "name": "stdout",
     "output_type": "stream",
     "text": [
      "vecteurs de base du réseau direct (dans un repère cartésien) : \n",
      "\n",
      "vecteur a : \n",
      "[ 6.659088 -1.837965  0.      ]\n",
      "vecteur c : \n",
      "[6.659088 1.837965 0.      ]\n",
      "vecteur b : \n",
      "[6.151793 0.       3.14277 ]\n",
      "\n",
      "\n",
      "vecteurs de base du réseau réciproque (dans un repère cartésien) : \n",
      "\n",
      "vecteur a* : \n",
      "[ 0.47177521 -1.70927774 -0.92347307]\n",
      "vecteur c* : \n",
      "[ 0.47177521  1.70927774 -0.92347307]\n",
      "vecteur b* : \n",
      "[0.         0.         1.99925076]\n",
      "\n",
      "\n",
      "type de maille : R\n",
      "système cristallin : trigonal\n",
      "groupe ponctuel : -3m\n"
     ]
    }
   ],
   "source": [
    "view = quick_view(structure)\n",
    "display(view)\n",
    "latt = structure.lattice\n",
    "finder = SpacegroupAnalyzer(structure)\n",
    "\n",
    "\n",
    "rec = latt.reciprocal_lattice\n",
    "print(\"vecteurs de base du réseau direct (dans un repère cartésien) : \\n\")\n",
    "print(\"vecteur a : \")\n",
    "print(latt.get_cartesian_coords([1,0,0]))\n",
    "\n",
    "print(\"vecteur c : \")\n",
    "print(latt.get_cartesian_coords([0,1,0]))\n",
    "\n",
    "print(\"vecteur b : \")\n",
    "print(latt.get_cartesian_coords([0,0,1]))\n",
    "print(\"\\n\")\n",
    "print(\"vecteurs de base du réseau réciproque (dans un repère cartésien) : \\n\")\n",
    "print(\"vecteur a* : \")\n",
    "print(rec.get_cartesian_coords([1,0,0]))\n",
    "\n",
    "print(\"vecteur c* : \")\n",
    "print(rec.get_cartesian_coords([0,1,0]))\n",
    "\n",
    "print(\"vecteur b* : \")\n",
    "print(rec.get_cartesian_coords([0,0,1]))\n",
    "print(\"\\n\")\n",
    "print(\"type de maille : \" + \"R\")\n",
    "print(\"système cristallin : \" + finder.get_crystal_system())\n",
    "print(\"groupe ponctuel : \" + finder.get_point_group_symbol())"
   ]
  },
  {
   "cell_type": "code",
   "execution_count": null,
   "id": "interested-month",
   "metadata": {},
   "outputs": [],
   "source": []
  }
 ],
 "metadata": {
  "kernelspec": {
   "display_name": "Python 3",
   "language": "python",
   "name": "python3"
  },
  "language_info": {
   "codemirror_mode": {
    "name": "ipython",
    "version": 3
   },
   "file_extension": ".py",
   "mimetype": "text/x-python",
   "name": "python",
   "nbconvert_exporter": "python",
   "pygments_lexer": "ipython3",
   "version": "3.6.8"
  }
 },
 "nbformat": 4,
 "nbformat_minor": 5
}
