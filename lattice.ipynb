{
 "cells": [
  {
   "cell_type": "code",
   "execution_count": 16,
   "id": "generous-guard",
   "metadata": {},
   "outputs": [],
   "source": [
    "from pymatgen import Lattice, Structure\n",
    "from pymatgen.symmetry.analyzer import SpacegroupAnalyzer\n",
    "import pymatgen.symmetry.structure \n",
    "from jupyter_jsmol.pymatgen import quick_view\n",
    "from pymatgen.ext.matproj import MPRester\n",
    "from pymatgen.io.cif import CifWriter"
   ]
  },
  {
   "cell_type": "code",
   "execution_count": 17,
   "id": "binary-provincial",
   "metadata": {},
   "outputs": [],
   "source": [
    "with MPRester(\"pyNX4Po9ZxSuwfvq\") as m:\n",
    "\n",
    "    # Structure for material id\n",
    "    structure = m.get_structure_by_material_id(\"mp-23210\")\n",
    "\n",
    "    w = CifWriter(structure,symprec = 0.1)\n",
    "    w.write_file('Structure-MgCl2sym.cif')\n",
    "    structuresym = Structure.from_file(\"Structure-MgCl2sym.cif\")"
   ]
  },
  {
   "cell_type": "code",
   "execution_count": 24,
   "id": "violent-distributor",
   "metadata": {},
   "outputs": [
    {
     "data": {
      "application/vnd.jupyter.widget-view+json": {
       "model_id": "2af2cc17a3404c54a1d69f1d9d5cec2c",
       "version_major": 2,
       "version_minor": 0
      },
      "text/plain": [
       "JsmolView(layout=Layout(align_self='stretch', height='400px'))"
      ]
     },
     "metadata": {},
     "output_type": "display_data"
    },
    {
     "name": "stdout",
     "output_type": "stream",
     "text": [
      "vecteurs de base du réseau direct (dans un repère cartésien) : \n",
      "\n",
      "vecteur a : \n",
      "[3.67593037e+00 0.00000000e+00 2.25085818e-16]\n",
      "vecteur b : \n",
      "[-1.83796518e+00  3.18344908e+00  2.25085818e-16]\n",
      "vecteur c : \n",
      "[ 0.         0.        19.7219851]\n",
      "\n",
      "\n",
      "vecteurs de base du réseau réciproque (dans un repère cartésien) : \n",
      "\n",
      "vecteur a* : \n",
      "[1.70927756 0.98685186 0.        ]\n",
      "vecteur b* : \n",
      "[0.         1.97370372 0.        ]\n",
      "vecteur c* : \n",
      "[-1.95078810e-17 -3.37886411e-17  3.18587874e-01]\n",
      "\n",
      "\n",
      "type de maille : R\n",
      "système cristallin : trigonal\n",
      "groupe ponctuel : -3m\n",
      
     ]
    }
   ],
   "source": [
    "\n",
    "finder = SpacegroupAnalyzer(structuresym)\n",
    " \n",
    "view = quick_view(structuresym)\n",
    "display(view)\n",
    "latt = structuresym.lattice\n",
    "\n",
    "rec = latt.reciprocal_lattice\n",
    "print(\"vecteurs de base du réseau direct (dans un repère cartésien) : \\n\")\n",
    "print(\"vecteur a : \")\n",
    "print(latt.get_cartesian_coords([1,0,0]))\n",
    "\n",
    "print(\"vecteur b : \")\n",
    "print(latt.get_cartesian_coords([0,1,0]))\n",
    "\n",
    "print(\"vecteur c : \")\n",
    "print(latt.get_cartesian_coords([0,0,1]))\n",
    "print(\"\\n\")\n",
    "print(\"vecteurs de base du réseau réciproque (dans un repère cartésien) : \\n\")\n",
    "print(\"vecteur a* : \")\n",
    "print(rec.get_cartesian_coords([1,0,0]))\n",
    "\n",
    "print(\"vecteur b* : \")\n",
    "print(rec.get_cartesian_coords([0,1,0]))\n",
    "\n",
    "print(\"vecteur c* : \")\n",
    "print(rec.get_cartesian_coords([0,0,1]))\n",
    "print(\"\\n\")\n",
    "print(\"type de maille : \" + \"R\")\n",
    "print(\"système cristallin : \" + finder.get_crystal_system())\n",
    "print(\"groupe ponctuel : \" + finder.get_point_group_symbol())\n",
    "\n",
    "\n",
    "\n"
   ]
  },
  {
   "cell_type": "markdown",
   "id": "complicated-findings",
   "metadata": {},
   "source": [
    "On verifie bien que a.a* = 2pi. (de même pour b et c)\n",
    ". Pymatgen nous dit que le système cristallin est trigonal, pourtant les longueurs des segments ainsi que les angles entre a b et c conduisent vers un système hexagonal (a = b != c et alpha = beta = 90, gamma = 120). \n"
   ]
  },
  {
   "cell_type": "code",
   "execution_count": null,
   "id": "opening-joshua",
   "metadata": {},
   "outputs": [],
   "source": []
  }
 ],
 "metadata": {
  "kernelspec": {
   "display_name": "Python 3",
   "language": "python",
   "name": "python3"
  },
  "language_info": {
   "codemirror_mode": {
    "name": "ipython",
    "version": 3
   },
   "file_extension": ".py",
   "mimetype": "text/x-python",
   "name": "python",
   "nbconvert_exporter": "python",
   "pygments_lexer": "ipython3",
   "version": "3.6.8"
  }
 },
 "nbformat": 4,
 "nbformat_minor": 5
}
